{
  "nbformat": 4,
  "nbformat_minor": 0,
  "metadata": {
    "colab": {
      "provenance": [],
      "authorship_tag": "ABX9TyOKPMlO9jIiFwHcssKIhxWP",
      "include_colab_link": true
    },
    "kernelspec": {
      "name": "python3",
      "display_name": "Python 3"
    },
    "language_info": {
      "name": "python"
    }
  },
  "cells": [
    {
      "cell_type": "markdown",
      "metadata": {
        "id": "view-in-github",
        "colab_type": "text"
      },
      "source": [
        "<a href=\"https://colab.research.google.com/github/sarit-adh/colab_notebooks/blob/main/CS501_HWII_Q5.ipynb\" target=\"_parent\"><img src=\"https://colab.research.google.com/assets/colab-badge.svg\" alt=\"Open In Colab\"/></a>"
      ]
    },
    {
      "cell_type": "code",
      "source": [
        "import numpy as np\n",
        "import sys\n",
        "import time\n",
        "import matplotlib.pyplot as plt\n",
        "import networkx as nx\n",
        "import copy"
      ],
      "metadata": {
        "id": "CvQtW2fC2_1C"
      },
      "execution_count": null,
      "outputs": []
    },
    {
      "cell_type": "code",
      "source": [
        "np.random.seed(10)"
      ],
      "metadata": {
        "id": "nLmM-kCIix15"
      },
      "execution_count": null,
      "outputs": []
    },
    {
      "cell_type": "code",
      "source": [
        "!pip install networkx"
      ],
      "metadata": {
        "colab": {
          "base_uri": "https://localhost:8080/"
        },
        "id": "H6GHYAqVk2jC",
        "outputId": "6320612c-35cb-471b-a742-a3384eb7d4c6"
      },
      "execution_count": null,
      "outputs": [
        {
          "output_type": "stream",
          "name": "stdout",
          "text": [
            "Looking in indexes: https://pypi.org/simple, https://us-python.pkg.dev/colab-wheels/public/simple/\n",
            "Requirement already satisfied: networkx in /usr/local/lib/python3.7/dist-packages (2.6.3)\n"
          ]
        }
      ]
    },
    {
      "cell_type": "code",
      "execution_count": null,
      "metadata": {
        "id": "57cpc35ehnHo"
      },
      "outputs": [],
      "source": [
        "def generate_graph(size):\n",
        "  graph_dict ={str(i) : [] for i in range(size)}\n",
        "  for i in range(size):\n",
        "    for j in range(i+1, size):\n",
        "      if np.random.random()<0.3:\n",
        "        graph_dict[str(i)].append(str(j))\n",
        "        graph_dict[str(j)].append(str(i))\n",
        "  return graph_dict"
      ]
    },
    {
      "cell_type": "code",
      "source": [
        "np.random.randint(5)"
      ],
      "metadata": {
        "colab": {
          "base_uri": "https://localhost:8080/"
        },
        "id": "L-_NyUuq65br",
        "outputId": "1dafb42d-8a71-4013-8dd8-01c8ef0b6b55"
      },
      "execution_count": null,
      "outputs": [
        {
          "output_type": "execute_result",
          "data": {
            "text/plain": [
              "1"
            ]
          },
          "metadata": {},
          "execution_count": 28
        }
      ]
    },
    {
      "cell_type": "code",
      "source": [
        "def extract_edges_from_graph(graph_dict):\n",
        "  edges_list = []\n",
        "  for key in graph_dict:\n",
        "    for elem in graph_dict[key]:\n",
        "        edges_list.append((key, elem))\n",
        "  return edges_list\n"
      ],
      "metadata": {
        "id": "6RY_07Nh9Czl"
      },
      "execution_count": null,
      "outputs": []
    },
    {
      "cell_type": "code",
      "source": [
        "def randomized_min_cut(graph_dict,edges_size_vec=None):\n",
        "  \n",
        "  while len(graph_dict.keys())>2:\n",
        "\n",
        "\n",
        "    # In each iteration we extract the edges from the adjacency list representation of the graph\n",
        "    edges_list = extract_edges_from_graph(graph_dict)\n",
        "\n",
        "    if edges_size_vec is not None : edges_size_vec.append(len(edges_list)//2)\n",
        "\n",
        "\n",
        "    if len(edges_list)==0 : return 0\n",
        "\n",
        "    #print(graph_dict)\n",
        "    #print(edges_list)\n",
        "    # picking an edge at random\n",
        "    u, v = edges_list[np.random.randint(len(edges_list))]\n",
        "    #print(u, v)\n",
        "\n",
        "    #Extracting the neighbors of the vertices belonging to randomly picked edge\n",
        "    u_neigh = graph_dict[u]\n",
        "    v_neigh = graph_dict[v]\n",
        "\n",
        "    \n",
        "    \n",
        "    # Defining the new node and new neighbors after collapsing two nodes connected by picked edge into one\n",
        "    new_node = u+\"_\"+v\n",
        "    new_neighbors = [elem for elem in u_neigh if elem!=u and elem!=v] + [elem for elem in v_neigh if elem!=u and elem!=v]\n",
        "    # Only elements other than nodes comprising the new node are selected\n",
        "\n",
        "    #print(new_neighbors)\n",
        "\n",
        "    #Updating the adjacency list for the nodes connected to nodes connected by picked edge\n",
        "    for nne in new_neighbors:\n",
        "      for ue in graph_dict[nne]:\n",
        "        if ue==u :\n",
        "          graph_dict[nne].remove(u)\n",
        "          graph_dict[nne].append(new_node)\n",
        "        if ue==v:\n",
        "          graph_dict[nne].remove(v)\n",
        "          graph_dict[nne].append(new_node)\n",
        "\n",
        "    #Updating the graph with new node replacing nodes connected by picked edge\n",
        "    graph_dict.pop(u)\n",
        "    graph_dict.pop(v)\n",
        "    graph_dict[new_node] = new_neighbors\n",
        "    \n",
        "  edges_list = extract_edges_from_graph(graph_dict)\n",
        "  return len(edges_list)//2      \n",
        "\n",
        "    \n",
        "\n",
        "    \n",
        "\n",
        "\n",
        "\n",
        "\n"
      ],
      "metadata": {
        "id": "C0hW3bEB0bWN"
      },
      "execution_count": null,
      "outputs": []
    },
    {
      "cell_type": "code",
      "source": [
        "graph_dict = {'0' : ['4'], '1' : ['2', '3'], '2': ['1', '3'], '3' : ['1', '2', '4'], '4' : ['0', '3'] }\n",
        "edges_list = extract_edges_from_graph(graph_dict)\n",
        "edges_list_gt = [('0','4'), ('3','4'), ('1', '2'), ('2' , '3'), ('1', '3')]\n",
        "print(graph_dict)\n",
        "print(edges_list)\n",
        "\n",
        "G = nx.Graph(graph_dict)\n",
        "nx.draw(G)\n",
        "\n",
        "\n",
        "print(\"MinCut:\" , randomized_min_cut(graph_dict))\n",
        "print(graph_dict)"
      ],
      "metadata": {
        "colab": {
          "base_uri": "https://localhost:8080/",
          "height": 388
        },
        "id": "FBa1x16L0xkB",
        "outputId": "0799f843-9b1d-445d-e24b-b3b8aa2c449e"
      },
      "execution_count": null,
      "outputs": [
        {
          "output_type": "stream",
          "name": "stdout",
          "text": [
            "{'0': ['4'], '1': ['2', '3'], '2': ['1', '3'], '3': ['1', '2', '4'], '4': ['0', '3']}\n",
            "[('0', '4'), ('1', '2'), ('1', '3'), ('2', '1'), ('2', '3'), ('3', '1'), ('3', '2'), ('3', '4'), ('4', '0'), ('4', '3')]\n",
            "MinCut: 1\n",
            "{'3_2_1': ['0_4'], '0_4': ['3_2_1']}\n"
          ]
        },
        {
          "output_type": "display_data",
          "data": {
            "text/plain": [
              "<Figure size 432x288 with 1 Axes>"
            ],
            "image/png": "[encoded data removed]"
          },
          "metadata": {}
        }
      ]
    },
    {
      "cell_type": "code",
      "source": [
        "graph_dict = generate_graph(10)\n",
        "edges_list = extract_edges_from_graph(graph_dict)\n",
        "print(graph_dict)\n",
        "print(edges_list)\n",
        "\n",
        "G = nx.Graph(graph_dict)\n",
        "nx.draw(G)\n",
        "\n",
        "\n",
        "print(\"MinCut:\" , randomized_min_cut(graph_dict))\n",
        "print(graph_dict)"
      ],
      "metadata": {
        "colab": {
          "base_uri": "https://localhost:8080/",
          "height": 408
        },
        "id": "zx2PIrnBQ2vw",
        "outputId": "85fd61b6-ffaf-4fd9-f048-df0ce0025489"
      },
      "execution_count": null,
      "outputs": [
        {
          "output_type": "stream",
          "name": "stdout",
          "text": [
            "{'0': ['3', '6'], '1': ['3'], '2': ['5', '7', '8'], '3': ['0', '1', '5'], '4': ['5', '6'], '5': ['2', '3', '4', '7', '8'], '6': ['0', '4', '8', '9'], '7': ['2', '5'], '8': ['2', '5', '6'], '9': ['6']}\n",
            "[('0', '3'), ('0', '6'), ('1', '3'), ('2', '5'), ('2', '7'), ('2', '8'), ('3', '0'), ('3', '1'), ('3', '5'), ('4', '5'), ('4', '6'), ('5', '2'), ('5', '3'), ('5', '4'), ('5', '7'), ('5', '8'), ('6', '0'), ('6', '4'), ('6', '8'), ('6', '9'), ('7', '2'), ('7', '5'), ('8', '2'), ('8', '5'), ('8', '6'), ('9', '6')]\n",
            "MinCut: 1\n",
            "{'1': ['9_6_4_7_3_0_2_5_8'], '9_6_4_7_3_0_2_5_8': ['1']}\n"
          ]
        },
        {
          "output_type": "display_data",
          "data": {
            "text/plain": [
              "<Figure size 432x288 with 1 Axes>"
            ],
            "image/png": "[encoded data removed]"
          },
          "metadata": {}
        }
      ]
    },
    {
      "cell_type": "code",
      "source": [
        "graph_sizes = [200, 600, 1000]\n",
        "time_taken_vec = []\n",
        "edges_evolution_dict = {}\n",
        "\n",
        "for graph_size in graph_sizes:\n",
        "  graph_dict = generate_graph(graph_size)\n",
        "  start_time = time.time()\n",
        "  edges_size_vec =[]\n",
        "  print(\"MinCut:\" , randomized_min_cut(graph_dict, edges_size_vec))\n",
        "  edges_evolution_dict[graph_size] = edges_size_vec\n",
        "  time_taken = time.time() - start_time\n",
        "  time_taken_vec.append(time_taken)\n",
        "\n",
        "\n"
      ],
      "metadata": {
        "colab": {
          "base_uri": "https://localhost:8080/"
        },
        "id": "nrzxS05UX2QE",
        "outputId": "10862813-988c-452f-eb20-975818f12f40"
      },
      "execution_count": null,
      "outputs": [
        {
          "output_type": "stream",
          "name": "stdout",
          "text": [
            "MinCut: 47\n",
            "MinCut: 176\n",
            "MinCut: 281\n"
          ]
        }
      ]
    },
    {
      "cell_type": "code",
      "source": [
        "time_taken_vec = [5.889320135116577, 334.1834237575531, 2470.6611335277557]\n",
        "ind = np.arange(len(graph_sizes))\n",
        "\n",
        "fig, ax = plt.subplots()\n",
        "ax.bar(x=ind, height=time_taken_vec)\n",
        "ax.set_xlabel('Graph Size')\n",
        "ax.set_ylabel('Time Taken (seconds)')\n",
        "ax.set_title('Runtime of randomized min-cut for different graph sizes')\n",
        "ax.set_xticks(ind, graph_sizes)\n",
        "plt.show()\n"
      ],
      "metadata": {
        "colab": {
          "base_uri": "https://localhost:8080/",
          "height": 350
        },
        "id": "5msSHQj8nnS-",
        "outputId": "8e1da740-b08b-400f-e44a-c1819cc50e7c"
      },
      "execution_count": null,
      "outputs": [
        {
          "output_type": "stream",
          "name": "stderr",
          "text": [
            "/usr/local/lib/python3.7/dist-packages/ipykernel_launcher.py:9: MatplotlibDeprecationWarning: Passing the minor parameter of set_xticks() positionally is deprecated since Matplotlib 3.2; the parameter will become keyword-only two minor releases later.\n",
            "  if __name__ == '__main__':\n"
          ]
        },
        {
          "output_type": "display_data",
          "data": {
            "text/plain": [
              "<Figure size 432x288 with 1 Axes>"
            ],
            "image/png": "[encoded data removed]"
          },
          "metadata": {
            "needs_background": "light"
          }
        }
      ]
    },
    {
      "cell_type": "code",
      "source": [
        "plt.yscale(\"log\")\n",
        "for size, edges_size_list in edges_evolution_dict.items():\n",
        "  plt.plot(list(range(len(edges_size_list))), edges_size_list, label=size)\n",
        "  plt.legend()"
      ],
      "metadata": {
        "colab": {
          "base_uri": "https://localhost:8080/",
          "height": 217
        },
        "id": "VVwqzVZIqolP",
        "outputId": "9e305d5a-ffef-4887-895a-2ee7e01829e4"
      },
      "execution_count": null,
      "outputs": [
        {
          "output_type": "error",
          "ename": "NameError",
          "evalue": "ignored",
          "traceback": [
            "\u001b[0;31m---------------------------------------------------------------------------\u001b[0m",
            "\u001b[0;31mNameError\u001b[0m                                 Traceback (most recent call last)",
            "\u001b[0;32m<ipython-input-1-e14647ff5174>\u001b[0m in \u001b[0;36m<module>\u001b[0;34m\u001b[0m\n\u001b[0;32m----> 1\u001b[0;31m \u001b[0mplt\u001b[0m\u001b[0;34m.\u001b[0m\u001b[0myscale\u001b[0m\u001b[0;34m(\u001b[0m\u001b[0;34m\"log\"\u001b[0m\u001b[0;34m)\u001b[0m\u001b[0;34m\u001b[0m\u001b[0;34m\u001b[0m\u001b[0m\n\u001b[0m\u001b[1;32m      2\u001b[0m \u001b[0;32mfor\u001b[0m \u001b[0msize\u001b[0m\u001b[0;34m,\u001b[0m \u001b[0medges_size_list\u001b[0m \u001b[0;32min\u001b[0m \u001b[0medges_evolution_dict\u001b[0m\u001b[0;34m.\u001b[0m\u001b[0mitems\u001b[0m\u001b[0;34m(\u001b[0m\u001b[0;34m)\u001b[0m\u001b[0;34m:\u001b[0m\u001b[0;34m\u001b[0m\u001b[0;34m\u001b[0m\u001b[0m\n\u001b[1;32m      3\u001b[0m   \u001b[0mplt\u001b[0m\u001b[0;34m.\u001b[0m\u001b[0mplot\u001b[0m\u001b[0;34m(\u001b[0m\u001b[0mlist\u001b[0m\u001b[0;34m(\u001b[0m\u001b[0mrange\u001b[0m\u001b[0;34m(\u001b[0m\u001b[0mlen\u001b[0m\u001b[0;34m(\u001b[0m\u001b[0medges_size_list\u001b[0m\u001b[0;34m)\u001b[0m\u001b[0;34m)\u001b[0m\u001b[0;34m)\u001b[0m\u001b[0;34m,\u001b[0m \u001b[0medges_size_list\u001b[0m\u001b[0;34m,\u001b[0m \u001b[0mlabel\u001b[0m\u001b[0;34m=\u001b[0m\u001b[0msize\u001b[0m\u001b[0;34m)\u001b[0m\u001b[0;34m\u001b[0m\u001b[0;34m\u001b[0m\u001b[0m\n\u001b[1;32m      4\u001b[0m   \u001b[0mplt\u001b[0m\u001b[0;34m.\u001b[0m\u001b[0mlegend\u001b[0m\u001b[0;34m(\u001b[0m\u001b[0;34m)\u001b[0m\u001b[0;34m\u001b[0m\u001b[0;34m\u001b[0m\u001b[0m\n",
            "\u001b[0;31mNameError\u001b[0m: name 'plt' is not defined"
          ]
        }
      ]
    },
    {
      "cell_type": "code",
      "source": [
        "def randomized_min_cut_old(graph_dict, edges_list):\n",
        "  graph_dict_c = copy.deepcopy(graph_dict)\n",
        "  edges_list_c = copy.deepcopy(edges_list)\n",
        "  # for key in list(graph_dict_c.keys()):\n",
        "  #   if len(graph_dict_c[key])==0:\n",
        "  #     graph_dict_c.pop(key)\n",
        "  while len(graph_dict_c.keys())>2 and edges_list_c:\n",
        "    print(graph_dict_c)\n",
        "    print(edges_list_c)\n",
        "    rand_edge_ind = np.random.randint(len(edges_list_c))\n",
        "    u, v = edges_list_c[rand_edge_ind] \n",
        "    print(\"edge picked:\", u, v)\n",
        "    #print(\"removing edge: \", u, \"->\" ,v )\n",
        "    while v in graph_dict_c[u]:\n",
        "      graph_dict_c[u].remove(v)\n",
        "    #print(\"removing edge: \", v, \"->\" ,u)\n",
        "    while u in graph_dict_c[v]:\n",
        "      graph_dict_c[v].remove(u)\n",
        "    \n",
        "    #print(edges_list_c, (u,v))\n",
        "\n",
        "    new_node = u+\"_\"+v\n",
        "    for nu in graph_dict_c[u]:\n",
        "      if (u,nu) in edges_list_c:\n",
        "        edges_list_c.remove((u,nu))\n",
        "      if (nu,u) in edges_list_c:\n",
        "        edges_list_c.remove((nu,u))\n",
        "      if nu in graph_dict_c and u in graph_dict_c[nu]:\n",
        "        graph_dict_c[nu].remove(u)\n",
        "      if nu in graph_dict_c:\n",
        "        graph_dict_c[nu].append(new_node)\n",
        "\n",
        "    for nv in graph_dict_c[v]:\n",
        "      if (v,nv) in edges_list_c:\n",
        "        edges_list_c.remove((v,nv))\n",
        "      if (nv,v) in edges_list_c:\n",
        "        edges_list_c.remove((nv,v))\n",
        "      if nv in graph_dict_c and v in graph_dict_c[nv]:\n",
        "        graph_dict_c[nv].remove(v)\n",
        "      if nv in graph_dict_c:\n",
        "        graph_dict_c[nv].append(new_node)\n",
        "    \n",
        "    \n",
        "    edges_list_c.remove((u,v))\n",
        "\n",
        "\n",
        "    new_node = u+\"_\"+v\n",
        "    new_neighbors = graph_dict_c[u][:] + graph_dict_c[v][:]\n",
        "    #print(\"creating node \", new_node, new_neighbors)\n",
        "\n",
        "    for new_neighbor in new_neighbors:\n",
        "      if new_node==new_neighbor:\n",
        "        new_neighbors.remove(new_neighbor)\n",
        "\n",
        "    for new_neighbor in new_neighbors:\n",
        "      edges_list_c.append((new_node, new_neighbor))\n",
        "    \n",
        "    graph_dict_c[new_node] = new_neighbors\n",
        "  \n",
        "    \n",
        "    graph_dict_c.pop(u)\n",
        "    graph_dict_c.pop(v)\n",
        "    \n",
        "  return graph_dict_c, edges_list_c\n",
        "    \n",
        "    \n",
        "\n"
      ],
      "metadata": {
        "id": "q74bsArx4ycj"
      },
      "execution_count": null,
      "outputs": []
    },
    {
      "cell_type": "code",
      "source": [
        "graph_dict, edges_list = generate_graph(5)\n",
        "G = nx.Graph(graph_dict)\n",
        "nx.draw(G)\n",
        "graph_dict_c, edges_list_c = randomized_min_cut(graph_dict, edges_list)\n",
        "print(\"\\n\")\n",
        "print(graph_dict_c)\n",
        "print(edges_list_c)\n",
        "print(\"Min-Cut:\", len(edges_list_c))"
      ],
      "metadata": {
        "colab": {
          "base_uri": "https://localhost:8080/",
          "height": 235
        },
        "id": "HxCacrZ9jq5f",
        "outputId": "7fee1f11-cc84-4008-e240-fc5606977860"
      },
      "execution_count": null,
      "outputs": [
        {
          "output_type": "error",
          "ename": "NameError",
          "evalue": "ignored",
          "traceback": [
            "\u001b[0;31m---------------------------------------------------------------------------\u001b[0m",
            "\u001b[0;31mNameError\u001b[0m                                 Traceback (most recent call last)",
            "\u001b[0;32m<ipython-input-77-a72c426d9f18>\u001b[0m in \u001b[0;36m<module>\u001b[0;34m\u001b[0m\n\u001b[0;32m----> 1\u001b[0;31m \u001b[0mgraph_dict\u001b[0m\u001b[0;34m,\u001b[0m \u001b[0medges_list\u001b[0m \u001b[0;34m=\u001b[0m \u001b[0mgenerate_graph\u001b[0m\u001b[0;34m(\u001b[0m\u001b[0;36m5\u001b[0m\u001b[0;34m)\u001b[0m\u001b[0;34m\u001b[0m\u001b[0;34m\u001b[0m\u001b[0m\n\u001b[0m\u001b[1;32m      2\u001b[0m \u001b[0mG\u001b[0m \u001b[0;34m=\u001b[0m \u001b[0mnx\u001b[0m\u001b[0;34m.\u001b[0m\u001b[0mGraph\u001b[0m\u001b[0;34m(\u001b[0m\u001b[0mgraph_dict\u001b[0m\u001b[0;34m)\u001b[0m\u001b[0;34m\u001b[0m\u001b[0;34m\u001b[0m\u001b[0m\n\u001b[1;32m      3\u001b[0m \u001b[0mnx\u001b[0m\u001b[0;34m.\u001b[0m\u001b[0mdraw\u001b[0m\u001b[0;34m(\u001b[0m\u001b[0mG\u001b[0m\u001b[0;34m)\u001b[0m\u001b[0;34m\u001b[0m\u001b[0;34m\u001b[0m\u001b[0m\n\u001b[1;32m      4\u001b[0m \u001b[0mgraph_dict_c\u001b[0m\u001b[0;34m,\u001b[0m \u001b[0medges_list_c\u001b[0m \u001b[0;34m=\u001b[0m \u001b[0mrandomized_min_cut\u001b[0m\u001b[0;34m(\u001b[0m\u001b[0mgraph_dict\u001b[0m\u001b[0;34m,\u001b[0m \u001b[0medges_list\u001b[0m\u001b[0;34m)\u001b[0m\u001b[0;34m\u001b[0m\u001b[0;34m\u001b[0m\u001b[0m\n\u001b[1;32m      5\u001b[0m \u001b[0mprint\u001b[0m\u001b[0;34m(\u001b[0m\u001b[0;34m\"\\n\"\u001b[0m\u001b[0;34m)\u001b[0m\u001b[0;34m\u001b[0m\u001b[0;34m\u001b[0m\u001b[0m\n",
            "\u001b[0;31mNameError\u001b[0m: name 'generate_graph' is not defined"
          ]
        }
      ]
    }
  ]
}